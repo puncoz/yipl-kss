{
 "cells": [
  {
   "cell_type": "code",
   "execution_count": 1,
   "metadata": {
    "collapsed": true
   },
   "outputs": [],
   "source": [
    "import numpy as np\n",
    "import matplotlib.pyplot as plt\n",
    "\n",
    "%matplotlib inline"
   ]
  },
  {
   "cell_type": "code",
   "execution_count": 2,
   "metadata": {},
   "outputs": [
    {
     "data": {
      "text/plain": [
       "<matplotlib.collections.PathCollection at 0x7fbca7103a58>"
      ]
     },
     "execution_count": 2,
     "metadata": {},
     "output_type": "execute_result"
    },
    {
     "data": {
      "image/png": "[encoded data removed]",
      "text/plain": [
       "<matplotlib.figure.Figure at 0x7fbcaef17198>"
      ]
     },
     "metadata": {},
     "output_type": "display_data"
    }
   ],
   "source": [
    "x = np.arange(-10, 10)\n",
    "m = 1\n",
    "c = 5\n",
    "y = m * x + c\n",
    "plt.scatter(x, y)"
   ]
  },
  {
   "cell_type": "code",
   "execution_count": 3,
   "metadata": {},
   "outputs": [
    {
     "data": {
      "text/plain": [
       "<matplotlib.collections.PathCollection at 0x7fbca702f4e0>"
      ]
     },
     "execution_count": 3,
     "metadata": {},
     "output_type": "execute_result"
    },
    {
     "data": {
      "image/png": "[encoded data removed]",
      "text/plain": [
       "<matplotlib.figure.Figure at 0x7fbca70b8a90>"
      ]
     },
     "metadata": {},
     "output_type": "display_data"
    }
   ],
   "source": [
    "np.random.seed(0)\n",
    "noise = np.random.random(len(x))\n",
    "\n",
    "ynoise = m * x + c + 10 * noise\n",
    "\n",
    "plt.scatter(x, ynoise)"
   ]
  },
  {
   "cell_type": "code",
   "execution_count": 4,
   "metadata": {},
   "outputs": [
    {
     "name": "stderr",
     "output_type": "stream",
     "text": [
      "Using TensorFlow backend.\n",
      "/opt/anaconda/lib/python3.6/importlib/_bootstrap.py:219: RuntimeWarning: compiletime version 3.5 of module 'tensorflow.python.framework.fast_tensor_util' does not match runtime version 3.6\n",
      "  return f(*args, **kwds)\n"
     ]
    }
   ],
   "source": [
    "from keras.models import Sequential\n",
    "from keras.layers import Dense"
   ]
  },
  {
   "cell_type": "code",
   "execution_count": 5,
   "metadata": {},
   "outputs": [
    {
     "name": "stderr",
     "output_type": "stream",
     "text": [
      "/opt/anaconda/lib/python3.6/site-packages/ipykernel_launcher.py:2: UserWarning: Update your `Dense` call to the Keras 2 API: `Dense(input_dim=1, activation=\"linear\", units=1, kernel_initializer=\"uniform\")`\n",
      "  \n"
     ]
    }
   ],
   "source": [
    "model = Sequential()\n",
    "model.add(Dense(input_dim=1, output_dim=1, init='uniform',activation='linear'))"
   ]
  },
  {
   "cell_type": "code",
   "execution_count": 6,
   "metadata": {
    "collapsed": true
   },
   "outputs": [],
   "source": [
    "model.compile(optimizer='sgd', loss='mse')\n",
    "#model.compile(optimizer='adam', loss='mse')"
   ]
  },
  {
   "cell_type": "code",
   "execution_count": 7,
   "metadata": {},
   "outputs": [
    {
     "name": "stdout",
     "output_type": "stream",
     "text": [
      "[array([[ 0.03964755]], dtype=float32), array([ 0.], dtype=float32)]\n"
     ]
    }
   ],
   "source": [
    "# getting weights of first layer.\n",
    "weights = model.layers[0].get_weights()\n",
    "print(weights)"
   ]
  },
  {
   "cell_type": "code",
   "execution_count": 8,
   "metadata": {},
   "outputs": [
    {
     "name": "stdout",
     "output_type": "stream",
     "text": [
      "_________________________________________________________________\n",
      "Layer (type)                 Output Shape              Param #   \n",
      "=================================================================\n",
      "dense_1 (Dense)              (None, 1)                 2         \n",
      "=================================================================\n",
      "Total params: 2\n",
      "Trainable params: 2\n",
      "Non-trainable params: 0\n",
      "_________________________________________________________________\n"
     ]
    }
   ],
   "source": [
    "model.summary()"
   ]
  },
  {
   "cell_type": "code",
   "execution_count": 9,
   "metadata": {},
   "outputs": [
    {
     "name": "stdout",
     "output_type": "stream",
     "text": [
      "[ 0.03964755] 0.0\n"
     ]
    }
   ],
   "source": [
    "# weight\n",
    "w_init = weights[0][0]\n",
    "# bias\n",
    "b_init = weights[1][0]\n",
    "\n",
    "print(w_init, b_init)"
   ]
  },
  {
   "cell_type": "code",
   "execution_count": 10,
   "metadata": {},
   "outputs": [
    {
     "name": "stderr",
     "output_type": "stream",
     "text": [
      "/opt/anaconda/lib/python3.6/site-packages/keras/models.py:939: UserWarning: The `nb_epoch` argument in `fit` has been renamed `epochs`.\n",
      "  warnings.warn('The `nb_epoch` argument in `fit` '\n"
     ]
    },
    {
     "name": "stdout",
     "output_type": "stream",
     "text": [
      "Epoch 1/100\n",
      "20/20 [==============================] - 0s 18ms/step - loss: 143.0944\n",
      "Epoch 2/100\n",
      "20/20 [==============================] - 0s 259us/step - loss: 121.1608\n",
      "Epoch 3/100\n",
      "20/20 [==============================] - 0s 416us/step - loss: 114.8903\n",
      "Epoch 4/100\n",
      "20/20 [==============================] - 0s 331us/step - loss: 110.4766\n",
      "Epoch 5/100\n",
      "20/20 [==============================] - 0s 350us/step - loss: 106.4115\n",
      "Epoch 6/100\n",
      "20/20 [==============================] - 0s 651us/step - loss: 102.5253\n",
      "Epoch 7/100\n",
      "20/20 [==============================] - 0s 511us/step - loss: 98.7938\n",
      "Epoch 8/100\n",
      "20/20 [==============================] - 0s 729us/step - loss: 95.2092\n",
      "Epoch 9/100\n",
      "20/20 [==============================] - 0s 150us/step - loss: 91.7655\n",
      "Epoch 10/100\n",
      "20/20 [==============================] - 0s 121us/step - loss: 88.4572\n",
      "Epoch 11/100\n",
      "20/20 [==============================] - 0s 99us/step - loss: 85.2788\n",
      "Epoch 12/100\n",
      "20/20 [==============================] - 0s 99us/step - loss: 82.2254\n",
      "Epoch 13/100\n",
      "20/20 [==============================] - 0s 103us/step - loss: 79.2920\n",
      "Epoch 14/100\n",
      "20/20 [==============================] - 0s 115us/step - loss: 76.4738\n",
      "Epoch 15/100\n",
      "20/20 [==============================] - 0s 82us/step - loss: 73.7664\n",
      "Epoch 16/100\n",
      "20/20 [==============================] - 0s 229us/step - loss: 71.1654\n",
      "Epoch 17/100\n",
      "20/20 [==============================] - 0s 73us/step - loss: 68.6665\n",
      "Epoch 18/100\n",
      "20/20 [==============================] - 0s 93us/step - loss: 66.2659\n",
      "Epoch 19/100\n",
      "20/20 [==============================] - 0s 91us/step - loss: 63.9597\n",
      "Epoch 20/100\n",
      "20/20 [==============================] - 0s 96us/step - loss: 61.7441\n",
      "Epoch 21/100\n",
      "20/20 [==============================] - 0s 87us/step - loss: 59.6155\n",
      "Epoch 22/100\n",
      "20/20 [==============================] - 0s 92us/step - loss: 57.5706\n",
      "Epoch 23/100\n",
      "20/20 [==============================] - 0s 129us/step - loss: 55.6060\n",
      "Epoch 24/100\n",
      "20/20 [==============================] - 0s 83us/step - loss: 53.7187\n",
      "Epoch 25/100\n",
      "20/20 [==============================] - 0s 84us/step - loss: 51.9055\n",
      "Epoch 26/100\n",
      "20/20 [==============================] - 0s 108us/step - loss: 50.1636\n",
      "Epoch 27/100\n",
      "20/20 [==============================] - 0s 71us/step - loss: 48.4901\n",
      "Epoch 28/100\n",
      "20/20 [==============================] - 0s 93us/step - loss: 46.8824\n",
      "Epoch 29/100\n",
      "20/20 [==============================] - 0s 101us/step - loss: 45.3379\n",
      "Epoch 30/100\n",
      "20/20 [==============================] - 0s 104us/step - loss: 43.8541\n",
      "Epoch 31/100\n",
      "20/20 [==============================] - 0s 101us/step - loss: 42.4286\n",
      "Epoch 32/100\n",
      "20/20 [==============================] - 0s 72us/step - loss: 41.0591\n",
      "Epoch 33/100\n",
      "20/20 [==============================] - 0s 164us/step - loss: 39.7434\n",
      "Epoch 34/100\n",
      "20/20 [==============================] - 0s 167us/step - loss: 38.4794\n",
      "Epoch 35/100\n",
      "20/20 [==============================] - 0s 169us/step - loss: 37.2651\n",
      "Epoch 36/100\n",
      "20/20 [==============================] - 0s 90us/step - loss: 36.0986\n",
      "Epoch 37/100\n",
      "20/20 [==============================] - 0s 116us/step - loss: 34.9778\n",
      "Epoch 38/100\n",
      "20/20 [==============================] - 0s 103us/step - loss: 33.9012\n",
      "Epoch 39/100\n",
      "20/20 [==============================] - 0s 73us/step - loss: 32.8668\n",
      "Epoch 40/100\n",
      "20/20 [==============================] - 0s 94us/step - loss: 31.8731\n",
      "Epoch 41/100\n",
      "20/20 [==============================] - 0s 97us/step - loss: 30.9184\n",
      "Epoch 42/100\n",
      "20/20 [==============================] - 0s 118us/step - loss: 30.0012\n",
      "Epoch 43/100\n",
      "20/20 [==============================] - 0s 82us/step - loss: 29.1201\n",
      "Epoch 44/100\n",
      "20/20 [==============================] - 0s 77us/step - loss: 28.2736\n",
      "Epoch 45/100\n",
      "20/20 [==============================] - 0s 75us/step - loss: 27.4604\n",
      "Epoch 46/100\n",
      "20/20 [==============================] - 0s 78us/step - loss: 26.6791\n",
      "Epoch 47/100\n",
      "20/20 [==============================] - 0s 64us/step - loss: 25.9286\n",
      "Epoch 48/100\n",
      "20/20 [==============================] - 0s 114us/step - loss: 25.2075\n",
      "Epoch 49/100\n",
      "20/20 [==============================] - 0s 70us/step - loss: 24.5148\n",
      "Epoch 50/100\n",
      "20/20 [==============================] - 0s 91us/step - loss: 23.8493\n",
      "Epoch 51/100\n",
      "20/20 [==============================] - 0s 126us/step - loss: 23.2099\n",
      "Epoch 52/100\n",
      "20/20 [==============================] - 0s 102us/step - loss: 22.5957\n",
      "Epoch 53/100\n",
      "20/20 [==============================] - 0s 85us/step - loss: 22.0056\n",
      "Epoch 54/100\n",
      "20/20 [==============================] - 0s 87us/step - loss: 21.4387\n",
      "Epoch 55/100\n",
      "20/20 [==============================] - 0s 82us/step - loss: 20.8941\n",
      "Epoch 56/100\n",
      "20/20 [==============================] - 0s 115us/step - loss: 20.3709\n",
      "Epoch 57/100\n",
      "20/20 [==============================] - 0s 119us/step - loss: 19.8682\n",
      "Epoch 58/100\n",
      "20/20 [==============================] - 0s 89us/step - loss: 19.3853\n",
      "Epoch 59/100\n",
      "20/20 [==============================] - 0s 83us/step - loss: 18.9214\n",
      "Epoch 60/100\n",
      "20/20 [==============================] - 0s 83us/step - loss: 18.4757\n",
      "Epoch 61/100\n",
      "20/20 [==============================] - 0s 86us/step - loss: 18.0475\n",
      "Epoch 62/100\n",
      "20/20 [==============================] - 0s 72us/step - loss: 17.6362\n",
      "Epoch 63/100\n",
      "20/20 [==============================] - 0s 75us/step - loss: 17.2410\n",
      "Epoch 64/100\n",
      "20/20 [==============================] - 0s 78us/step - loss: 16.8613\n",
      "Epoch 65/100\n",
      "20/20 [==============================] - 0s 78us/step - loss: 16.4966\n",
      "Epoch 66/100\n",
      "20/20 [==============================] - 0s 74us/step - loss: 16.1462\n",
      "Epoch 67/100\n",
      "20/20 [==============================] - 0s 125us/step - loss: 15.8096\n",
      "Epoch 68/100\n",
      "20/20 [==============================] - 0s 237us/step - loss: 15.4862\n",
      "Epoch 69/100\n",
      "20/20 [==============================] - 0s 210us/step - loss: 15.1755\n",
      "Epoch 70/100\n",
      "20/20 [==============================] - 0s 73us/step - loss: 14.8770\n",
      "Epoch 71/100\n",
      "20/20 [==============================] - 0s 96us/step - loss: 14.5902\n",
      "Epoch 72/100\n",
      "20/20 [==============================] - 0s 76us/step - loss: 14.3147\n",
      "Epoch 73/100\n",
      "20/20 [==============================] - 0s 179us/step - loss: 14.0501\n",
      "Epoch 74/100\n",
      "20/20 [==============================] - 0s 83us/step - loss: 13.7958\n",
      "Epoch 75/100\n",
      "20/20 [==============================] - 0s 75us/step - loss: 13.5516\n",
      "Epoch 76/100\n",
      "20/20 [==============================] - 0s 63us/step - loss: 13.3169\n",
      "Epoch 77/100\n",
      "20/20 [==============================] - 0s 82us/step - loss: 13.0915\n",
      "Epoch 78/100\n",
      "20/20 [==============================] - 0s 72us/step - loss: 12.8749\n",
      "Epoch 79/100\n",
      "20/20 [==============================] - 0s 72us/step - loss: 12.6668\n",
      "Epoch 80/100\n",
      "20/20 [==============================] - 0s 78us/step - loss: 12.4669\n",
      "Epoch 81/100\n",
      "20/20 [==============================] - 0s 78us/step - loss: 12.2749\n",
      "Epoch 82/100\n",
      "20/20 [==============================] - 0s 81us/step - loss: 12.0904\n",
      "Epoch 83/100\n",
      "20/20 [==============================] - 0s 64us/step - loss: 11.9131\n",
      "Epoch 84/100\n",
      "20/20 [==============================] - 0s 163us/step - loss: 11.7428\n",
      "Epoch 85/100\n",
      "20/20 [==============================] - 0s 202us/step - loss: 11.5793\n",
      "Epoch 86/100\n",
      "20/20 [==============================] - 0s 94us/step - loss: 11.4221\n",
      "Epoch 87/100\n",
      "20/20 [==============================] - 0s 180us/step - loss: 11.2711\n",
      "Epoch 88/100\n",
      "20/20 [==============================] - 0s 72us/step - loss: 11.1261\n",
      "Epoch 89/100\n",
      "20/20 [==============================] - 0s 88us/step - loss: 10.9867\n",
      "Epoch 90/100\n",
      "20/20 [==============================] - 0s 74us/step - loss: 10.8528\n",
      "Epoch 91/100\n",
      "20/20 [==============================] - 0s 75us/step - loss: 10.7242\n",
      "Epoch 92/100\n",
      "20/20 [==============================] - 0s 68us/step - loss: 10.6007\n",
      "Epoch 93/100\n",
      "20/20 [==============================] - 0s 95us/step - loss: 10.4820\n",
      "Epoch 94/100\n",
      "20/20 [==============================] - 0s 82us/step - loss: 10.3679\n",
      "Epoch 95/100\n",
      "20/20 [==============================] - 0s 88us/step - loss: 10.2584\n",
      "Epoch 96/100\n",
      "20/20 [==============================] - 0s 82us/step - loss: 10.1531\n",
      "Epoch 97/100\n",
      "20/20 [==============================] - 0s 66us/step - loss: 10.0520\n",
      "Epoch 98/100\n",
      "20/20 [==============================] - 0s 91us/step - loss: 9.9549\n",
      "Epoch 99/100\n",
      "20/20 [==============================] - 0s 332us/step - loss: 9.8616\n"
     ]
    },
    {
     "name": "stdout",
     "output_type": "stream",
     "text": [
      "Epoch 100/100\n",
      "\r",
      "20/20 [==============================] - 0s 72us/step - loss: 9.7719\n"
     ]
    },
    {
     "data": {
      "text/plain": [
       "<keras.callbacks.History at 0x7fbcafc24c18>"
      ]
     },
     "execution_count": 10,
     "metadata": {},
     "output_type": "execute_result"
    }
   ],
   "source": [
    "model.fit(x, ynoise, nb_epoch = 100)"
   ]
  },
  {
   "cell_type": "code",
   "execution_count": 11,
   "metadata": {
    "scrolled": true
   },
   "outputs": [
    {
     "name": "stdout",
     "output_type": "stream",
     "text": [
      "[array([[ 0.03964755]], dtype=float32), array([ 0.], dtype=float32)]\n",
      "[ 0.94621646] 9.34335\n"
     ]
    }
   ],
   "source": [
    "weights_new = model.layers[0].get_weights()\n",
    "print(weights)\n",
    "\n",
    "w_final = weights_new[0][0]\n",
    "b_final = weights_new[1][0]\n",
    "\n",
    "print(w_final, b_final)"
   ]
  },
  {
   "cell_type": "code",
   "execution_count": 12,
   "metadata": {},
   "outputs": [
    {
     "data": {
      "text/plain": [
       "<matplotlib.collections.PathCollection at 0x7fbc887a1dd8>"
      ]
     },
     "execution_count": 12,
     "metadata": {},
     "output_type": "execute_result"
    },
    {
     "data": {
      "image/png": "[encoded data removed]",
      "text/plain": [
       "<matplotlib.figure.Figure at 0x7fbc88850c18>"
      ]
     },
     "metadata": {},
     "output_type": "display_data"
    }
   ],
   "source": [
    "ynew = w_final * x + b_final\n",
    "plt.scatter(x, ynew)"
   ]
  },
  {
   "cell_type": "code",
   "execution_count": 13,
   "metadata": {},
   "outputs": [
    {
     "data": {
      "image/png": "[encoded data removed]",
      "text/plain": [
       "<matplotlib.figure.Figure at 0x7fbc887cb240>"
      ]
     },
     "metadata": {},
     "output_type": "display_data"
    }
   ],
   "source": [
    "#plt.plot(x, y, label='data')\n",
    "plt.scatter(x, ynoise, label='data')\n",
    "plt.plot(x, w_init*x + b_init, label='init')\n",
    "plt.plot(x, w_final*x + b_final, label='prediction')\n",
    "plt.legend()\n",
    "plt.show()"
   ]
  },
  {
   "cell_type": "code",
   "execution_count": 23,
   "metadata": {},
   "outputs": [
    {
     "data": {
      "text/plain": [
       "array([[ 14.07443237]], dtype=float32)"
      ]
     },
     "execution_count": 23,
     "metadata": {},
     "output_type": "execute_result"
    }
   ],
   "source": [
    "model.predict(np.array([5]))"
   ]
  },
  {
   "cell_type": "code",
   "execution_count": null,
   "metadata": {
    "collapsed": true
   },
   "outputs": [],
   "source": []
  }
 ],
 "metadata": {
  "kernelspec": {
   "display_name": "Python 3",
   "language": "python",
   "name": "python3"
  },
  "language_info": {
   "codemirror_mode": {
    "name": "ipython",
    "version": 3
   },
   "file_extension": ".py",
   "mimetype": "text/x-python",
   "name": "python",
   "nbconvert_exporter": "python",
   "pygments_lexer": "ipython3",
   "version": "3.6.3"
  }
 },
 "nbformat": 4,
 "nbformat_minor": 2
}
